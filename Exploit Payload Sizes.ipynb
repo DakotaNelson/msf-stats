{
 "cells": [
  {
   "cell_type": "markdown",
   "metadata": {},
   "source": [
    "## Metasploit Payload Size\n",
    "#### Or: \"How big can my stagers be, really?\"\n",
    "\n",
    "The idea here is to parse through the Metasploit Project's available exploits to determine what the distribution of payload sizes is.\n",
    "\n",
    "This can help make decisions for stager size optimization - if I have a great idea for a stager (or other exploit payload), but can't make it any smaller than 1k, is it worth it? What if it's 2k? And so on.\n",
    "\n",
    "As it turns out, payloads over 2kb work with less than 20% of available exploits, and payloads over 1kb only work with about 60% - if you can't make your stager under 2k, you shouldn't expect to be able to use it very often at all."
   ]
  },
  {
   "cell_type": "code",
   "execution_count": 163,
   "metadata": {
    "collapsed": false
   },
   "outputs": [],
   "source": [
    "%matplotlib inline\n",
    "\n",
    "import os\n",
    "import re\n",
    "import sys\n",
    "import numpy as np\n",
    "import matplotlib\n",
    "\n",
    "matplotlib.use('TkAgg')\n",
    "\n",
    "import matplotlib.pyplot as plt"
   ]
  },
  {
   "cell_type": "code",
   "execution_count": 164,
   "metadata": {
    "collapsed": false
   },
   "outputs": [
    {
     "data": {
      "text/plain": [
       "'/home/dnelson/projects/msf-stats/metasploit-framework/modules/exploits'"
      ]
     },
     "execution_count": 164,
     "metadata": {},
     "output_type": "execute_result"
    }
   ],
   "source": [
    "# Set up a path to the Metasploit project's code.\n",
    "basepath = os.path.join('/', 'home', 'dnelson', 'projects', 'msf-stats')\n",
    "rootdir = os.path.join(basepath, 'metasploit-framework', 'modules', 'exploits')\n",
    "rootdir"
   ]
  },
  {
   "cell_type": "code",
   "execution_count": 165,
   "metadata": {
    "collapsed": false
   },
   "outputs": [
    {
     "name": "stdout",
     "output_type": "stream",
     "text": [
      "Modules processed: 950\n"
     ]
    }
   ],
   "source": [
    "# Iterate through every exploit module, searching for the amount of space that exploit provides to fit a payload in.\n",
    "all_sizes = []\n",
    "for folder, subs, files in os.walk(rootdir):\n",
    "    for filename in files:\n",
    "        with open(os.path.join(folder, filename), 'r') as sploit:\n",
    "            #print(\"parsing \" + filename + \"...\")\n",
    "            text = sploit.read()\n",
    "            # remove all whitespace\n",
    "            text = ''.join(text.split())\n",
    "            space = re.search(\"\\'Space\\'=>(\\d+)\\,\", text)\n",
    "            # Note that if no payload size limit is specified, we simply ignore that module\n",
    "            if space:\n",
    "                all_sizes.append(int(space.group(1)))\n",
    "\n",
    "print(\"Modules processed: \" + str(len(all_sizes)))"
   ]
  },
  {
   "cell_type": "code",
   "execution_count": 166,
   "metadata": {
    "collapsed": false
   },
   "outputs": [
    {
     "name": "stdout",
     "output_type": "stream",
     "text": [
      "[     100      127      128      128      130      153      160      164\n",
      "      175      200      200      200      200      200      210      212\n",
      "      213      220      227      228      232      232      236      250\n",
      "      250      250      250      250      250      253      255      255\n",
      "      256      256      256      256      256      260      284      296\n",
      "      300      300      300      300      300      300      310      336\n",
      "      336      340      344      344      344      350      370      370\n",
      "      373      375      380      384      390      392      400      400\n",
      "      400      400      400      400      400      400      400      400\n",
      "      400      400      400      400      400      400      400      400\n",
      "      400      400      400      400      400      400      400      400\n",
      "      400      400      400      410      417      424      424      434\n",
      "      440      444      450      450      450      450      450      450\n",
      "      460      466      472      475      476      480      480      490\n",
      "      490      498      500      500      500      500      500      500\n",
      "      500      500      500      500      500      500      500      500\n",
      "      500      500      500      500      500      500      500      500\n",
      "      500      500      500      500      500      500      500      500\n",
      "      500      500      500      500      500      500      512      512\n",
      "      512      512      512      512      512      512      512      512\n",
      "      512      512      512      512      512      512      512      512\n",
      "      512      512      512      512      512      512      512      512\n",
      "      512      512      512      512      512      512      512      512\n",
      "      512      512      512      512      512      512      512      512\n",
      "      512      512      512      526      550      550      550      550\n",
      "      550      550      550      550      550      550      550      550\n",
      "      600      600      600      600      600      600      600      600\n",
      "      600      600      600      600      600      600      600      600\n",
      "      600      600      600      600      600      600      600      600\n",
      "      600      600      600      600      614      632      636      640\n",
      "      650      650      650      650      650      650      650      650\n",
      "      650      650      660      674      698      700      700      700\n",
      "      700      700      700      700      700      710      712      728\n",
      "      730      750      750      750      750      750      750      750\n",
      "      750      750      750      750      750      750      750      750\n",
      "      750      750      750      750      750      750      750      780\n",
      "      800      800      800      800      800      800      800      800\n",
      "      800      800      800      800      800      800      800      800\n",
      "      800      800      800      800      800      800      800      800\n",
      "      800      800      800      800      800      800      800      800\n",
      "      800      800      800      800      800      800      800      830\n",
      "      850      850      850      850      864      870      880      890\n",
      "      890      896      900      900      900      900      900      900\n",
      "      906      920      934      936      936      936      948      948\n",
      "      950      954      956      960      964      970      978      978\n",
      "      979      987      990      991      994     1000     1000     1000\n",
      "     1000     1000     1000     1000     1000     1000     1000     1000\n",
      "     1000     1000     1000     1000     1000     1000     1000     1000\n",
      "     1000     1000     1000     1000     1000     1000     1000     1000\n",
      "     1000     1000     1000     1000     1000     1000     1000     1000\n",
      "     1000     1000     1000     1000     1000     1000     1000     1000\n",
      "     1000     1000     1000     1000     1000     1000     1000     1000\n",
      "     1000     1000     1000     1000     1000     1000     1000     1000\n",
      "     1000     1000     1000     1004     1012     1012     1014     1014\n",
      "     1024     1024     1024     1024     1024     1024     1024     1024\n",
      "     1024     1024     1024     1024     1024     1024     1024     1024\n",
      "     1024     1024     1024     1024     1024     1024     1024     1024\n",
      "     1024     1024     1024     1024     1024     1024     1024     1024\n",
      "     1024     1024     1024     1024     1024     1024     1024     1024\n",
      "     1024     1024     1024     1024     1024     1024     1024     1024\n",
      "     1024     1024     1024     1024     1024     1024     1024     1024\n",
      "     1024     1024     1024     1024     1024     1024     1024     1024\n",
      "     1024     1024     1024     1024     1024     1024     1024     1024\n",
      "     1024     1024     1024     1024     1024     1024     1024     1024\n",
      "     1024     1024     1024     1024     1024     1024     1024     1024\n",
      "     1024     1024     1024     1024     1024     1024     1024     1024\n",
      "     1024     1024     1024     1024     1024     1024     1024     1024\n",
      "     1024     1024     1024     1024     1024     1024     1024     1024\n",
      "     1024     1024     1024     1024     1024     1024     1024     1024\n",
      "     1024     1024     1024     1024     1024     1024     1024     1024\n",
      "     1024     1024     1024     1024     1024     1024     1024     1024\n",
      "     1024     1024     1024     1024     1024     1024     1024     1024\n",
      "     1024     1024     1024     1024     1024     1024     1024     1024\n",
      "     1024     1024     1024     1024     1024     1024     1024     1024\n",
      "     1024     1024     1024     1024     1024     1024     1024     1024\n",
      "     1024     1024     1024     1024     1024     1024     1024     1024\n",
      "     1024     1024     1024     1024     1024     1024     1024     1024\n",
      "     1024     1024     1024     1024     1024     1024     1024     1024\n",
      "     1024     1024     1024     1024     1024     1024     1024     1024\n",
      "     1024     1024     1024     1024     1024     1024     1024     1024\n",
      "     1024     1024     1024     1024     1024     1024     1024     1024\n",
      "     1024     1024     1024     1024     1024     1024     1024     1024\n",
      "     1024     1024     1024     1024     1024     1026     1040     1046\n",
      "     1073     1104     1200     1200     1321     1408     1456     1500\n",
      "     1500     1500     1500     1675     1770     1787     1800     1800\n",
      "     1800     1900     2000     2000     2000     2000     2000     2000\n",
      "     2000     2000     2000     2000     2000     2000     2000     2000\n",
      "     2000     2000     2000     2000     2000     2000     2000     2000\n",
      "     2000     2000     2000     2020     2048     2048     2048     2048\n",
      "     2048     2048     2048     2048     2048     2048     2048     2048\n",
      "     2048     2048     2048     2048     2048     2048     2048     2048\n",
      "     2048     2048     2048     2048     2048     2048     2048     2048\n",
      "     2048     2048     2048     2048     2048     2048     2048     2048\n",
      "     2048     2048     2048     2048     2048     2048     2048     2048\n",
      "     2048     2048     2048     2048     2048     2048     2048     2048\n",
      "     2048     2048     2048     2048     2048     2048     2048     2048\n",
      "     2048     2048     2048     2048     2048     2048     2052     2060\n",
      "     2339     2339     2454     2500     3000     3000     3000     3000\n",
      "     3000     3000     3000     3000     3000     3060     3072     3072\n",
      "     3500     3841     3925     4000     4000     4000     4000     4000\n",
      "     4000     4000     4000     4000     4000     4000     4000     4000\n",
      "     4000     4000     4000     4000     4000     4000     4000     4000\n",
      "     4000     4000     4000     4000     4000     4000     4096     4096\n",
      "     4096     4096     4096     4096     4096     4096     4096     4096\n",
      "     4096     4096     4096     4096     4096     4096     4096     4096\n",
      "     4096     4096     4096     4100     4104     4108     4150     4500\n",
      "     4658     4660     4720     5000     5000     5000     5000     5000\n",
      "     5100     6000     6000     6144     6144     6596     7000     7000\n",
      "     7516     8000     8000     8000     8000     8000     8000     8000\n",
      "     8000     8000     8000     8000     8138     8190     8190     8190\n",
      "     8190     8190     8190     8190     8192     8192     8192     8192\n",
      "     8192     9844    10000    10000    10000    10000    10000    10000\n",
      "    10000    10000    10000    10000    10240    10359    12288    16384\n",
      "    16384    20480    20480    20480    20480    20480    20480    20480\n",
      "    20480    20480    20480    20480    20480    20480    20480    20480\n",
      "    20480    20480    20480    20480    20480    21112    21244    31337\n",
      "    31337    31337    32767    32768    32768    32768    33692    50000\n",
      "    60000    65535    65535    99999   262144   262144   262144   262144\n",
      "   262144   262144   262144   262144   262144 10000000]\n"
     ]
    }
   ],
   "source": [
    "sorted_sizes = np.sort(all_sizes)\n",
    "cumulative = np.cumsum(sorted_sizes)\n",
    "\n",
    "print(sorted_sizes)\n",
    "\n",
    "# looks to me like we should exclude that last one, since it's waaaaaaay larger than the rest\n",
    "sorted_sizes = sorted_sizes[:-1]"
   ]
  },
  {
   "cell_type": "code",
   "execution_count": 178,
   "metadata": {
    "collapsed": false
   },
   "outputs": [
    {
     "data": {
      "text/plain": [
       "(0, 949)"
      ]
     },
     "execution_count": 178,
     "metadata": {},
     "output_type": "execute_result"
    },
    {
     "data": {
      "image/png": "[encoded data removed]",
      "text/plain": [
       "<matplotlib.figure.Figure at 0x7f82e16cd860>"
      ]
     },
     "metadata": {},
     "output_type": "display_data"
    }
   ],
   "source": [
    "# Simply plot a cumulative sum of payload sizes\n",
    "plt.plot(cumulative, linewidth=3, color=\"black\")\n",
    "\n",
    "plt.ylabel(\"Payload space (bytes, to 1 MB)\", size=16)\n",
    "plt.ylim((0,1000000)) # only go out to 1 MB\n",
    "\n",
    "plt.xlabel(\"Number of exploit modules which will NOT work\", size=16)\n",
    "plt.xlim(0,len(sorted_sizes))"
   ]
  },
  {
   "cell_type": "markdown",
   "metadata": {},
   "source": [
    "This is a fairly simple view on the data: plot each exploit against its payload space. To interpret this, imagine that at any point on the x axis, that module, and every module to the left of it, will work for the given y value (payload size) or less."
   ]
  },
  {
   "cell_type": "code",
   "execution_count": 179,
   "metadata": {
    "collapsed": false
   },
   "outputs": [
    {
     "data": {
      "text/plain": [
       "<matplotlib.lines.Line2D at 0x7f82e162b198>"
      ]
     },
     "execution_count": 179,
     "metadata": {},
     "output_type": "execute_result"
    },
    {
     "data": {
      "image/png": "[encoded data removed]",
      "text/plain": [
       "<matplotlib.figure.Figure at 0x7f82e1694358>"
      ]
     },
     "metadata": {},
     "output_type": "display_data"
    }
   ],
   "source": [
    "# Plot our sorted sizes against a fraction, 0 to 1, of all exploits.\n",
    "plt.plot(sorted_sizes, np.linspace(1,0,len(sorted_sizes)), linewidth=3, color='black')\n",
    "plt.xlim((0,10000))\n",
    "\n",
    "plt.xlabel(\"Payload size (bytes)\", size=16)\n",
    "plt.ylabel(\"Fraction of exploits which\\n accept that payload size\", size=16)\n",
    "\n",
    "# Plot some vertical lines for emphasis; a red line at 512 bytes, green at 1024, and blue at 2048.\n",
    "plt.axvline(512, color='red', linewidth=2)\n",
    "plt.axvline(1024, color='green', linewidth=2)\n",
    "plt.axvline(2048, color='blue', linewidth=2)"
   ]
  },
  {
   "cell_type": "markdown",
   "metadata": {},
   "source": [
    "This second view is a lot more useful, as it displays the payload size against the fraction of exploits which will work (or not work) for that size. It looks like any payload over 2048 bytes will only work with about 20% of exploits - a little less, in fact! If any of your stagers are just barely above 1024 bytes, it's well worth the effort to trim those last few bytes. Almost a quarter of exploits available in Metasploit have a payload size cutoff at 1024 bytes.\n",
    "\n",
    "This chart can also be read as a probability: if I want to send a 1000 byte payload, and I pick an exploit at random (or, I find an vulnerable host at random), I have about a 60% chance that the exploit I end up with will be able to accomodate that payload. If my payload is 500 bytes, that probability becomes more than 90%."
   ]
  },
  {
   "cell_type": "code",
   "execution_count": 180,
   "metadata": {
    "collapsed": false
   },
   "outputs": [
    {
     "data": {
      "text/plain": [
       "<matplotlib.text.Text at 0x7f82e1665f60>"
      ]
     },
     "execution_count": 180,
     "metadata": {},
     "output_type": "execute_result"
    },
    {
     "data": {
      "image/png": "[encoded data removed]",
      "text/plain": [
       "<matplotlib.figure.Figure at 0x7f82e1699ac8>"
      ]
     },
     "metadata": {},
     "output_type": "display_data"
    }
   ],
   "source": [
    "plt.hist(sorted_sizes, 400)\n",
    "\n",
    "plt.xlim((0,35000))\n",
    "plt.yscale('log')\n",
    "\n",
    "plt.xlabel(\"Payload Size (bytes)\", size=16)\n",
    "plt.ylabel(\"Number of Exploits, Log Scale\", size=16)"
   ]
  },
  {
   "cell_type": "markdown",
   "metadata": {},
   "source": [
    "The humble histogram finishes out our exploration today - note that it's on a log scale. This is significantly less useful than the above charts, since payload size is a cumulative number (i.e. smaller payloads still work in exploits with more than enough space for them), but this view is interesting in that it shows us where there are large clusters of exploits accepting a certain payload size."
   ]
  }
 ],
 "metadata": {
  "kernelspec": {
   "display_name": "Python 3",
   "language": "python",
   "name": "python3"
  },
  "language_info": {
   "codemirror_mode": {
    "name": "ipython",
    "version": 3
   },
   "file_extension": ".py",
   "mimetype": "text/x-python",
   "name": "python",
   "nbconvert_exporter": "python",
   "pygments_lexer": "ipython3",
   "version": "3.4.1"
  }
 },
 "nbformat": 4,
 "nbformat_minor": 0
}
